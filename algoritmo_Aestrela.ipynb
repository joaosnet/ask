{
 "cells": [
  {
   "cell_type": "code",
   "execution_count": 2,
   "metadata": {},
   "outputs": [],
   "source": [
    "import networkx as nx\n",
    "import matplotlib.pyplot as plt"
   ]
  },
  {
   "cell_type": "code",
   "execution_count": 5,
   "metadata": {},
   "outputs": [],
   "source": [
    "def astar(graph, start, goal):\n",
    "    \"\"\"\n",
    "    Encontra o caminho mais curto em um grafo ponderado usando o algoritmo A*.\n",
    "\n",
    "    Args:\n",
    "        graph (networkx.Graph): Grafo ponderado.\n",
    "        start (int): Nó de partida.\n",
    "        goal (int): Nó de destino.\n",
    "\n",
    "    Returns:\n",
    "        list: Lista de nós que representa o caminho mais curto do nó de partida até o nó de destino.\n",
    "        None: Caso não exista caminho entre o nó de partida e o nó de destino.\n",
    "\n",
    "    \"\"\"\n",
    "\n",
    "    open_set = {start}\n",
    "    # This code computes the path from the start to the goal.\n",
    "    # The came_from dictionary maps a node to the node immediately preceding it on the path.\n",
    "    came_from = {}\n",
    "\n",
    "    g_score = {node: float('inf') for node in graph.nodes}\n",
    "    g_score[start] = 0\n",
    "\n",
    "    f_score = {node: float('inf') for node in graph.nodes}\n",
    "    f_score[start] = heuristic_cost_estimate(start, goal)\n",
    "\n",
    "    while open_set:\n",
    "        current = min(open_set, key=lambda node: f_score[node])\n",
    "\n",
    "        if current == goal:\n",
    "            return reconstruct_path(came_from, current)\n",
    "\n",
    "        open_set.remove(current)\n",
    "\n",
    "        for neighbor in graph.neighbors(current):\n",
    "            tentative_g_score = g_score[current] + graph[current][neighbor]['weight']\n",
    "\n",
    "            if tentative_g_score < g_score[neighbor]:\n",
    "                came_from[neighbor] = current\n",
    "                g_score[neighbor] = tentative_g_score\n",
    "                f_score[neighbor] = g_score[neighbor] + heuristic_cost_estimate(neighbor, goal)\n",
    "\n",
    "                if neighbor not in open_set:\n",
    "                    open_set.add(neighbor)\n",
    "\n",
    "    return None  # Caminho não encontrado então retorna None\n",
    "\n",
    "def heuristic_cost_estimate(node, goal):\n",
    "    # Distância euclidiana simples como heurística para simplicidade\n",
    "    x1, y1 = graph.nodes[node]['pos']\n",
    "    x2, y2 = graph.nodes[goal]['pos']\n",
    "    return ((x1 - x2) ** 2 + (y1 - y2) ** 2) ** 0.5\n",
    "\n",
    "def reconstruct_path(came_from, current):\n",
    "    total_path = [current]\n",
    "    while current in came_from:\n",
    "        current = came_from[current]\n",
    "        total_path.insert(0, current)\n",
    "    return total_path\n",
    "\n",
    "def visualize_path(graph, path):\n",
    "    \"\"\"\n",
    "    Desenha um grafo e destaca um caminho específico.\n",
    "\n",
    "    :param graph: O grafo a ser desenhado.\n",
    "    :type graph: networkx.Graph\n",
    "    :param path: O caminho a ser destacado.\n",
    "    :type path: list\n",
    "    \"\"\"\n",
    "    pos = nx.get_node_attributes(graph, 'pos')\n",
    "    nx.draw(graph, pos, with_labels=True, node_size=700, font_size=8, font_color='white')\n",
    "    nx.draw_networkx_nodes(graph, pos, nodelist=path, node_color='red', node_size=700)\n",
    "    nx.draw_networkx_edges(graph, pos, edgelist=list(zip(path[:-1], path[1:])), edge_color='red', width=2)\n",
    "    plt.show()"
   ]
  },
  {
   "cell_type": "code",
   "execution_count": 4,
   "metadata": {},
   "outputs": [
    {
     "name": "stdout",
     "output_type": "stream",
     "text": [
      "Caminho encontrado: ['E', 'A']\n"
     ]
    },
    {
     "data": {
      "image/png": "[encoded data removed]",
      "text/plain": [
       "<Figure size 640x480 with 1 Axes>"
      ]
     },
     "metadata": {},
     "output_type": "display_data"
    }
   ],
   "source": [
    "# Criando um grafo simples para representar o mapa\n",
    "graph = nx.Graph()\n",
    "graph.add_node('A', pos=(0, 0))\n",
    "graph.add_node('B', pos=(1, 1))\n",
    "graph.add_node('C', pos=(3, 1))\n",
    "graph.add_node('D', pos=(4, 2))\n",
    "graph.add_node('E', pos=(5, 0))\n",
    "\n",
    "graph.add_edge('A', 'B', weight=1)\n",
    "graph.add_edge('B', 'C', weight=2)\n",
    "graph.add_edge('C', 'D', weight=3)\n",
    "graph.add_edge('D', 'E', weight=2)\n",
    "graph.add_edge('E', 'A', weight=2)\n",
    "\n",
    "# Executando o algoritmo A*\n",
    "no_inicial = 'E'\n",
    "no_destino = 'A'\n",
    "path = astar(graph, no_inicial, no_destino)\n",
    "\n",
    "# Visualizando o resultado\n",
    "if path:\n",
    "    print(f\"Caminho encontrado: {path}\")\n",
    "    visualize_path(graph, path)\n",
    "else:\n",
    "    print(\"Nenhum caminho encontrado.\")"
   ]
  }
 ],
 "metadata": {
  "kernelspec": {
   "display_name": "ask",
   "language": "python",
   "name": "python3"
  },
  "language_info": {
   "codemirror_mode": {
    "name": "ipython",
    "version": 3
   },
   "file_extension": ".py",
   "mimetype": "text/x-python",
   "name": "python",
   "nbconvert_exporter": "python",
   "pygments_lexer": "ipython3",
   "version": "3.11.5"
  }
 },
 "nbformat": 4,
 "nbformat_minor": 2
}
